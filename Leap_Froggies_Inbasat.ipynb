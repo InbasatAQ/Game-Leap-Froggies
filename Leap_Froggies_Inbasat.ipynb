{
  "nbformat": 4,
  "nbformat_minor": 0,
  "metadata": {
    "colab": {
      "provenance": []
    },
    "kernelspec": {
      "name": "python3",
      "display_name": "Python 3"
    },
    "language_info": {
      "name": "python"
    }
  },
  "cells": [
    {
      "cell_type": "markdown",
      "source": [
        "#**How to Play**\n",
        "1. Game setup: 3 Brown frogs(right) and 3 Green frogs(left)\n",
        "2. The player enters the position of the frog they want to move.\n",
        "3. Goal: Move all the brown frogs to the left and move all the green frogs to the right."
      ],
      "metadata": {
        "id": "NJD1VCJJd5Iy"
      }
    },
    {
      "cell_type": "code",
      "source": [
        "init_pos = list(['G','G','G','-','B','B','B'])\n",
        "fin_pos = init_pos[::-1]\n",
        "## print(\" Enter an integer less that 7\")\n",
        "print(\"Game Start\")\n",
        "print(init_pos)\n",
        "print(\"[ 0 ,  1 ,  2 ,  3 ,  4 ,  5 ,  6 ]\")\n",
        "\n",
        "# print(\"Game Win\")\n",
        "# print(fin_pos)\n",
        "# print(\"[ 0 ,  1 ,  2 ,  3 ,  4 ,  5 ,  6 ]\")\n",
        "\n"
      ],
      "metadata": {
        "colab": {
          "base_uri": "https://localhost:8080/"
        },
        "id": "Uwv9tsXkZJyY",
        "outputId": "833f7bbf-67c2-4c23-8529-dccda5b1d500"
      },
      "execution_count": 18,
      "outputs": [
        {
          "output_type": "stream",
          "name": "stdout",
          "text": [
            "Game Start\n",
            "['G', 'G', 'G', '-', 'B', 'B', 'B']\n",
            "[ 0 ,  1 ,  2 ,  3 ,  4 ,  5 ,  6 ]\n"
          ]
        }
      ]
    },
    {
      "cell_type": "markdown",
      "source": [
        "game keeps running until the player quits\n",
        "```\n",
        "Infinite loop:\n",
        "    (inside loop)\n",
        "    1.Take input\n",
        "    2.Check all valid and invalid conditions of `pos`.\n",
        "    3.Make the appropriate move by calculating `pos2`.\n",
        "    4.Display game\n",
        "    4.Check winning condition\n",
        "```"
      ],
      "metadata": {
        "id": "xo8xEh_zsC52"
      }
    },
    {
      "cell_type": "code",
      "execution_count": 19,
      "metadata": {
        "id": "CD2dSxXttnNO",
        "colab": {
          "base_uri": "https://localhost:8080/"
        },
        "outputId": "bb5cb4b6-0d96-4243-d711-6ad0569d9e8c"
      },
      "outputs": [
        {
          "output_type": "stream",
          "name": "stdout",
          "text": [
            "Press q to quit else \n",
            "Enter position of piece:2\n",
            "[ 0 ,  1 ,  2 ,  3 ,  4 ,  5 ,  6 ]\n",
            "['G', 'G', '-', 'G', 'B', 'B', 'B']\n",
            "Press q to quit else \n",
            "Enter position of piece:4\n",
            "[ 0 ,  1 ,  2 ,  3 ,  4 ,  5 ,  6 ]\n",
            "['G', 'G', 'B', 'G', '-', 'B', 'B']\n",
            "Press q to quit else \n",
            "Enter position of piece:5\n",
            "[ 0 ,  1 ,  2 ,  3 ,  4 ,  5 ,  6 ]\n",
            "['G', 'G', 'B', 'G', 'B', '-', 'B']\n",
            "Press q to quit else \n",
            "Enter position of piece:3\n",
            "[ 0 ,  1 ,  2 ,  3 ,  4 ,  5 ,  6 ]\n",
            "['G', 'G', 'B', '-', 'B', 'G', 'B']\n",
            "Press q to quit else \n",
            "Enter position of piece:1\n",
            "[ 0 ,  1 ,  2 ,  3 ,  4 ,  5 ,  6 ]\n",
            "['G', '-', 'B', 'G', 'B', 'G', 'B']\n",
            "Press q to quit else \n",
            "Enter position of piece:2\n",
            "[ 0 ,  1 ,  2 ,  3 ,  4 ,  5 ,  6 ]\n",
            "['G', 'B', '-', 'G', 'B', 'G', 'B']\n",
            "Press q to quit else \n",
            "Enter position of piece:4\n",
            "[ 0 ,  1 ,  2 ,  3 ,  4 ,  5 ,  6 ]\n",
            "['G', 'B', 'B', 'G', '-', 'G', 'B']\n",
            "Press q to quit else \n",
            "Enter position of piece:6\n",
            "[ 0 ,  1 ,  2 ,  3 ,  4 ,  5 ,  6 ]\n",
            "['G', 'B', 'B', 'G', 'B', 'G', '-']\n",
            "Press q to quit else \n",
            "Enter position of piece:4\n",
            "Invalid move\n",
            "[ 0 ,  1 ,  2 ,  3 ,  4 ,  5 ,  6 ]\n",
            "['B', 'B', 'B', 'G', 'G', 'G', '-']\n",
            "Press q to quit else \n",
            "Enter position of piece:5\n",
            "[ 0 ,  1 ,  2 ,  3 ,  4 ,  5 ,  6 ]\n",
            "['B', 'B', 'B', 'G', 'G', '-', 'G']\n",
            "Press q to quit else \n",
            "Enter position of piece:4\n",
            "[ 0 ,  1 ,  2 ,  3 ,  4 ,  5 ,  6 ]\n",
            "['B', 'B', 'B', 'G', '-', 'G', 'G']\n",
            "Press q to quit else \n",
            "Enter position of piece:3\n",
            "[ 0 ,  1 ,  2 ,  3 ,  4 ,  5 ,  6 ]\n",
            "['B', 'B', 'B', '-', 'G', 'G', 'G']\n",
            "YOU WIN\n"
          ]
        }
      ],
      "source": [
        "while True:\n",
        "  ## Gamer Input\n",
        "  pos = input(\"Press q to quit else \\nEnter position of piece:\")\n",
        "  ## CHECK 1: if they want to quit or continue the game.\n",
        "  if pos == 'q':\n",
        "   print(\"YOU LOSE!!\")\n",
        "   break\n",
        "  pos = int(pos)\n",
        "  ## CHECK 2: if the value entered is with in range.\n",
        "  if pos < 0 or 6 < pos:\n",
        "    print(\"Invalid move1\")\n",
        "    continue\n",
        "  ## CHECK 3: if a frog is present on the position.\n",
        "  if init_pos[pos] == '-':\n",
        "    print(\"Invalid move2\")\n",
        "    continue\n",
        "\n",
        "  ## CHECK5.a: if the selected frog is 'G'\n",
        "  ## Inside if when it's 'G'. As 'G' is selected frog can move to right only.\n",
        "  if init_pos[pos] == 'G':\n",
        "        ## condition 1 : If **selected_position + 1** is less than or equal to 6 and **curent_position + 1** contains '-'\n",
        "        ## then it's a valid move\n",
        "        if (pos + 1) <= 6 and init_pos[pos + 1] == '-':\n",
        "            pass\n",
        "        ## condition2: Else if **selected_position + 2** is less than or equal to 6 and if **current_position + 2**\n",
        "        ## contains '-' and if **selected_position + 1** contains 'B' then it's a valid move.\n",
        "        elif (pos + 2) <= 6 and init_pos[pos + 2] == '-' and init_pos[pos + 1] == 'B':\n",
        "            pass\n",
        "        ## condition3: Else remainig all are invalid, so print `Invalid Move`\n",
        "        else:\n",
        "            print(\"Invalid move\")\n",
        "            break\n",
        "\n",
        "  ## CHECK5.b: if the selected frog is 'B'\n",
        "  ## Inside if when it's 'B'. As 'B' is selected frog can move to left only.\n",
        "  if init_pos[pos] == 'B':\n",
        "        ## condition 1 : If **selected_position - 1** is less than or equal to 0 and **curent_position - 1** contains '-'\n",
        "        ## then it's a valid move.\n",
        "        if (pos - 1) >= 0 and init_pos[pos - 1] == '-':\n",
        "            pass\n",
        "        ## condition2: Else if **selected_position - 2** is more than or equal to 0 and if **current_position - 2** contains '-'\n",
        "        ## and if **selected_position - 1** contains 'G' then it's a valid move\n",
        "        elif (pos - 2) >= 0 and init_pos[pos - 2] == '-' and init_pos[pos - 1] == 'G':\n",
        "            pass\n",
        "        ## condition3: Else remainig all are invalid,, so print `Invalid Move`.\n",
        "        else:\n",
        "            print(\"Invalid move\")\n",
        "\n",
        "\n",
        "  ## Swap the element at selected positions and calculated position2 in the list.\n",
        "  ## So basically we are moving the frog to next valid position by swapping elelments of array.\n",
        "  pos2 = 0\n",
        "  if init_pos[pos] == 'G':\n",
        "        if init_pos[pos + 1] == '-':\n",
        "            pos2 = (pos+1)\n",
        "        elif init_pos[pos + 2] == '-':\n",
        "            pos2 = (pos+2)\n",
        "  if init_pos[pos] == 'B':\n",
        "        if init_pos[pos - 1] == '-':\n",
        "            pos2 = (pos-1)\n",
        "        elif init_pos[pos - 2] == '-':\n",
        "            pos2 = (pos-2)\n",
        "  init_pos[pos], init_pos[pos2] = init_pos[pos2], init_pos[pos]\n",
        "\n",
        "  ## Now print the display of the game again to see the change.\n",
        "  print(\"[ 0 ,  1 ,  2 ,  3 ,  4 ,  5 ,  6 ]\")\n",
        "  print(init_pos)\n",
        "\n",
        "  ## Check for winning condition by comparing the elements of list.\n",
        "  if init_pos == fin_pos:\n",
        "    print(\"YOU WIN\")\n",
        "    break"
      ]
    }
  ]
}